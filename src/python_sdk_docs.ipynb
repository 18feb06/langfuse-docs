{
  "cells": [
    {
      "cell_type": "markdown",
      "metadata": {
        "id": "mqBspBzuRk9C"
      },
      "source": [
        "# Langfuse Python SDK\n",
        "\n",
        "[Open in Google Colab](http://colab.research.google.com/github/langfuse/langfuse-demo-python/blob/main/notebook.ipynb)"
      ]
    },
    {
      "cell_type": "markdown",
      "metadata": {
        "id": "Lc6Uxbl3R5El"
      },
      "source": [
        "## Install package"
      ]
    },
    {
      "cell_type": "code",
      "execution_count": 33,
      "metadata": {
        "colab": {
          "base_uri": "https://localhost:8080/"
        },
        "id": "F21wZSUyKLzb",
        "outputId": "001a7b06-4181-4d44-850e-f89ad0cc1fb4"
      },
      "outputs": [
        {
          "output_type": "stream",
          "name": "stdout",
          "text": [
            "Looking in indexes: https://pypi.org/simple, https://us-python.pkg.dev/colab-wheels/public/simple/, https://pypi.buildwithfern.com\n",
            "Requirement already satisfied: finto-fern-langfuse in /usr/local/lib/python3.10/dist-packages (0.0.330)\n",
            "Requirement already satisfied: httpx==0.23.3 in /usr/local/lib/python3.10/dist-packages (from finto-fern-langfuse) (0.23.3)\n",
            "Requirement already satisfied: pydantic<2.0.0,>=1.9.2 in /usr/local/lib/python3.10/dist-packages (from finto-fern-langfuse) (1.10.7)\n",
            "Requirement already satisfied: certifi in /usr/local/lib/python3.10/dist-packages (from httpx==0.23.3->finto-fern-langfuse) (2022.12.7)\n",
            "Requirement already satisfied: httpcore<0.17.0,>=0.15.0 in /usr/local/lib/python3.10/dist-packages (from httpx==0.23.3->finto-fern-langfuse) (0.16.3)\n",
            "Requirement already satisfied: rfc3986[idna2008]<2,>=1.3 in /usr/local/lib/python3.10/dist-packages (from httpx==0.23.3->finto-fern-langfuse) (1.5.0)\n",
            "Requirement already satisfied: sniffio in /usr/local/lib/python3.10/dist-packages (from httpx==0.23.3->finto-fern-langfuse) (1.3.0)\n",
            "Requirement already satisfied: typing-extensions>=4.2.0 in /usr/local/lib/python3.10/dist-packages (from pydantic<2.0.0,>=1.9.2->finto-fern-langfuse) (4.5.0)\n",
            "Requirement already satisfied: h11<0.15,>=0.13 in /usr/local/lib/python3.10/dist-packages (from httpcore<0.17.0,>=0.15.0->httpx==0.23.3->finto-fern-langfuse) (0.14.0)\n",
            "Requirement already satisfied: anyio<5.0,>=3.0 in /usr/local/lib/python3.10/dist-packages (from httpcore<0.17.0,>=0.15.0->httpx==0.23.3->finto-fern-langfuse) (3.6.2)\n",
            "Requirement already satisfied: idna in /usr/local/lib/python3.10/dist-packages (from rfc3986[idna2008]<2,>=1.3->httpx==0.23.3->finto-fern-langfuse) (3.4)\n"
          ]
        }
      ],
      "source": [
        "%pip install --extra-index-url https://pypi.buildwithfern.com finto-fern-langfuse"
      ]
    },
    {
      "cell_type": "code",
      "execution_count": 34,
      "metadata": {
        "id": "icsjj8rZRdbT"
      },
      "outputs": [],
      "source": [
        "from finto.client import FintoLangfuse"
      ]
    },
    {
      "cell_type": "code",
      "execution_count": 35,
      "metadata": {
        "id": "SB2FAfezKfLq"
      },
      "outputs": [],
      "source": [
        "from datetime import datetime"
      ]
    },
    {
      "cell_type": "markdown",
      "metadata": {
        "id": "fAupsw1pR_6q"
      },
      "source": [
        "## Set environment"
      ]
    },
    {
      "cell_type": "code",
      "execution_count": 36,
      "metadata": {
        "id": "iDfYwZf4KUnY"
      },
      "outputs": [],
      "source": [
        "ENV_HOST = \"https://cloud.langfuse.com\"\n",
        "ENV_SECRET_KEY = \"sk-lf-1234567890\"\n",
        "ENV_PUBLISHABLE_KEY = \"pk-lf-1234567890\""
      ]
    },
    {
      "cell_type": "markdown",
      "metadata": {
        "id": "CT4uaBm4SLvw"
      },
      "source": [
        "## Create client"
      ]
    },
    {
      "cell_type": "code",
      "execution_count": 37,
      "metadata": {
        "id": "CBN_94oTSQpG"
      },
      "outputs": [],
      "source": [
        "client = FintoLangfuse(\n",
        "    environment=ENV_HOST,\n",
        "    password=ENV_SECRET_KEY,\n",
        "    username=ENV_PUBLISHABLE_KEY\n",
        ")"
      ]
    },
    {
      "cell_type": "markdown",
      "metadata": {
        "id": "jcmUBEDTSSDp"
      },
      "source": [
        "## Tracing"
      ]
    },
    {
      "cell_type": "code",
      "execution_count": 38,
      "metadata": {
        "id": "Z9Kxxjp004WD"
      },
      "outputs": [],
      "source": [
        "from finto.resources.trace.types.create_trace_request import CreateTraceRequest\n",
        "\n",
        "trace = client.trace.create(\n",
        "    request = CreateTraceRequest(\n",
        "        name=\"chat-completion\",\n",
        "        metadata= {\n",
        "            \"key\": \"value\"\n",
        "        }\n",
        "    )\n",
        ")"
      ]
    },
    {
      "cell_type": "code",
      "execution_count": 39,
      "metadata": {
        "id": "nJfTbXvNQ6iD"
      },
      "outputs": [],
      "source": [
        "from finto.resources.generations.types.create_log import CreateLog\n",
        "from finto.resources.generations.types.llm_usage import LlmUsage\n",
        "from finto.resources.span.types.create_span_request import CreateSpanRequest\n",
        "from finto.resources.span.types.update_span_request import UpdateSpanRequest\n",
        "\n",
        "generation = client.generations.log(\n",
        "    request=CreateLog(\n",
        "        traceId=trace.id,\n",
        "        name=\"test\",\n",
        "        startTime=datetime.utcnow().strftime('%Y-%m-%dT%H:%M:%SZ'),\n",
        "        endTime=datetime.utcnow().strftime('%Y-%m-%dT%H:%M:%SZ'),\n",
        "        model=\"gpt-3.5-turbo\",\n",
        "        modelParameters= {\n",
        "            \"temperature\":0.9,\n",
        "            \"maxTokens\":1000,\n",
        "            \"topP\":None,\n",
        "        },\n",
        "        prompt=[{\"role\": \"user\", \"content\":\"Hello, how are you?\"}],\n",
        "        completion=\"I am fine, thank you\",\n",
        "        usage=LlmUsage(\n",
        "            prompt_tokens=512,\n",
        "            completion_tokens=49\n",
        "        ),\n",
        "        metadata= {\n",
        "            \"userid\":'user__935d7d1d-8625-4ef4-8651-544613e7bd22',\n",
        "        }\n",
        "    )\n",
        ")\n",
        "\n",
        "\n",
        "span = client.span.create(\n",
        "    request=CreateSpanRequest(\n",
        "        traceId=trace.id,\n",
        "        name=\"chat-completion\",\n",
        "        startTime=datetime.utcnow().strftime('%Y-%m-%dT%H:%M:%SZ'),\n",
        "        endTime=datetime.utcnow().strftime('%Y-%m-%dT%H:%M:%SZ'),\n",
        "        metadata={\n",
        "            \"key\": \"value\"\n",
        "        },\n",
        "        parentObservationId=generation.id,\n",
        "    )\n",
        ")"
      ]
    },
    {
      "cell_type": "code",
      "execution_count": 40,
      "metadata": {
        "id": "QYf-aU13SbRr"
      },
      "outputs": [],
      "source": [
        "from finto.resources.event.types.create_event_request import CreateEventRequest\n",
        "\n",
        "event = client.event.create(\n",
        "    request=CreateEventRequest(\n",
        "        traceId=trace.id,\n",
        "        name=\"chat-docs-retrieval\",\n",
        "        startTime=datetime.utcnow().strftime('%Y-%m-%dT%H:%M:%SZ'),\n",
        "        metadata={\n",
        "            \"key\": \"value\"\n",
        "        },\n",
        "        parentObservationId=span.id,\n",
        "    )\n",
        ")"
      ]
    },
    {
      "cell_type": "markdown",
      "metadata": {
        "id": "EABnZymiSej8"
      },
      "source": [
        "## Scoring"
      ]
    },
    {
      "cell_type": "code",
      "execution_count": 41,
      "metadata": {
        "id": "mj19Zby3SfT9"
      },
      "outputs": [],
      "source": [
        "from finto.resources.score.types.create_score_request import CreateScoreRequest\n",
        "score = client.score.create(\n",
        "    request=CreateScoreRequest(\n",
        "        traceId=trace.id,                  # trace the score is related to\n",
        "        name=\"user-explicit-feedback\",\n",
        "        value=1,\n",
        "        observationId=generation.id           # optionally: also attach the score to an individual observation\n",
        "    )\n",
        ")"
      ]
    }
  ],
  "metadata": {
    "colab": {
      "provenance": []
    },
    "kernelspec": {
      "display_name": "Python 3",
      "name": "python3"
    },
    "language_info": {
      "codemirror_mode": {
        "name": "ipython",
        "version": 3
      },
      "file_extension": ".py",
      "mimetype": "text/x-python",
      "name": "python",
      "nbconvert_exporter": "python",
      "pygments_lexer": "ipython3",
      "version": "3.11.4"
    }
  },
  "nbformat": 4,
  "nbformat_minor": 0
}